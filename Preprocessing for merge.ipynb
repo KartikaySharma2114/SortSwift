{
 "cells": [
  {
   "cell_type": "code",
   "execution_count": 1,
   "metadata": {},
   "outputs": [],
   "source": [
    "import pandas as pd\n",
    "from nltk.tokenize import word_tokenize\n",
    "from math import ceil\n",
    "\n"
   ]
  },
  {
   "cell_type": "code",
   "execution_count": 2,
   "metadata": {},
   "outputs": [
    {
     "name": "stdout",
     "output_type": "stream",
     "text": [
      "CSV file created successfully.\n"
     ]
    }
   ],
   "source": [
    "def split_text(text, chunk_size=500):\n",
    "    words = word_tokenize(text)\n",
    "    chunks = [words[i:i + chunk_size] for i in range(0, len(words), chunk_size)]\n",
    "    return [' '.join(chunk) for chunk in chunks]\n",
    "\n",
    "# Read the text file\n",
    "with open(r\"C:\\Users\\kkysh\\Downloads\\ML KA MAAL\\Doc Categorization Project\\fffff.txt\", 'r', encoding='utf-8') as file:\n",
    "    content = file.read()\n",
    "\n",
    "# Split text into parts of 500 words\n",
    "text_parts = split_text(content)\n",
    "\n",
    "# Create a list of labels (assuming you have two PDFs, one label for each)\n",
    "labels = [8.0] * len(text_parts)\n",
    "\n",
    "# Create a DataFrame\n",
    "df = pd.DataFrame(list(zip(text_parts, labels)), columns=['Text', 'Label'])\n",
    "\n",
    "# Save DataFrame to CSV\n",
    "df.to_csv('your_dataset8label.csv', index=False, quoting=2)  # quoting=2 ensures text is enclosed in double quotes\n",
    "\n",
    "print(\"CSV file created successfully.\")\n"
   ]
  },
  {
   "cell_type": "code",
   "execution_count": 3,
   "metadata": {},
   "outputs": [
    {
     "name": "stdout",
     "output_type": "stream",
     "text": [
      "Datasets successfully merged and saved as 'merged_dataset.csv'.\n"
     ]
    }
   ],
   "source": [
    "\n",
    "df1 = pd.read_csv('your_dataset8label.csv')\n",
    "df2 = pd.read_csv('merged_dataset123newwala.csv')\n",
    "\n",
    "# Concatenate the two DataFrames\n",
    "result_df = pd.concat([df1, df2], ignore_index=True)\n",
    "\n",
    "# Save the result to a new CSV file\n",
    "result_df.to_csv('merged_dataset123newwalaacha.csv', index=False, quoting=2)\n",
    "\n",
    "print(\"Datasets successfully merged and saved as 'merged_dataset.csv'.\")\n"
   ]
  },
  {
   "cell_type": "code",
   "execution_count": 5,
   "metadata": {},
   "outputs": [
    {
     "name": "stdout",
     "output_type": "stream",
     "text": [
      "Label\n",
      "5.0    15500\n",
      "1.0    12902\n",
      "4.0    12000\n",
      "3.0     5500\n",
      "7.0     4878\n",
      "6.0     4500\n",
      "2.0     4042\n",
      "8.0     2738\n",
      "Name: count, dtype: int64\n"
     ]
    }
   ],
   "source": [
    "csv_file_path = 'merged_dataset123newwalaacha.csv'\n",
    "\n",
    "df = pd.read_csv(csv_file_path)\n",
    "\n",
    "label_counts = df['Label'].value_counts()\n",
    "\n",
    "print(label_counts)\n"
   ]
  }
 ],
 "metadata": {
  "kernelspec": {
   "display_name": "myenv",
   "language": "python",
   "name": "python3"
  },
  "language_info": {
   "codemirror_mode": {
    "name": "ipython",
    "version": 3
   },
   "file_extension": ".py",
   "mimetype": "text/x-python",
   "name": "python",
   "nbconvert_exporter": "python",
   "pygments_lexer": "ipython3",
   "version": "3.10.13"
  }
 },
 "nbformat": 4,
 "nbformat_minor": 2
}
